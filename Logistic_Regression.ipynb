{
 "cells": [
  {
   "cell_type": "code",
   "execution_count": null,
   "id": "a87487ce",
   "metadata": {},
   "outputs": [],
   "source": [
    "#preparing data for logistic regression\n",
    "data[\"admitted\"]=data[\"admitted\"].map({\"yes\": 1, \"no\": 0})   #convert admitted variable into numerical\n",
    "data.head()"
   ]
  },
  {
   "cell_type": "markdown",
   "id": "d2d2b273",
   "metadata": {},
   "source": [
    "Logistic regression code"
   ]
  },
  {
   "cell_type": "code",
   "execution_count": null,
   "id": "f7960239",
   "metadata": {},
   "outputs": [],
   "source": [
    "#import relevant libraries\n",
    "from sklearn.model_selection import train_test_split\n",
    "from sklearn.linear_model import LogisticRegression\n",
    "from sklearn import metrics\n",
    "\n",
    "#features extraction\n",
    "x = data[['gmat', 'gpa','work_experience']]\n",
    "y = data['admitted']\n",
    "\n",
    "x_train,x_test,y_train,y_test = train_test_split(x,y,test_size=0.25,random_state=0)  #splitting data with test size of 25%\n",
    "\n",
    "logreg = LogisticRegression()   #build our logistic model\n",
    "logreg.fit(x_train, y_train)  #fitting training data\n",
    "y_pred  = logreg.predict(x_test)    #testing model’s performance\n",
    "print(\"Accuracy={:.2f}\".format(logreg.score(x_test, y_test)))"
   ]
  },
  {
   "cell_type": "markdown",
   "id": "835aad7f",
   "metadata": {},
   "source": [
    "https://www.kaggle.com/neisha/heart-disease-prediction-using-logistic-regression/notebook"
   ]
  },
  {
   "cell_type": "markdown",
   "id": "eca9ad21",
   "metadata": {},
   "source": [
    "Logistic regression distribution"
   ]
  },
  {
   "cell_type": "code",
   "execution_count": null,
   "id": "cde45bd4",
   "metadata": {},
   "outputs": [],
   "source": [
    "import seaborn as sns\n",
    "sns.regplot(x='gmat',y='admitted',data=data)"
   ]
  },
  {
   "cell_type": "markdown",
   "id": "63025c5f",
   "metadata": {},
   "source": [
    "Confusion matrix"
   ]
  },
  {
   "cell_type": "code",
   "execution_count": null,
   "id": "3715476d",
   "metadata": {},
   "outputs": [],
   "source": [
    "confusion_matrix = pd.crosstab(y_test, y_pred, rownames=['Actual'], colnames=['Predicted'])\n",
    "sns.heatmap(confusion_matrix, annot=True)"
   ]
  },
  {
   "cell_type": "markdown",
   "id": "5526f113",
   "metadata": {},
   "source": [
    "Classification Report"
   ]
  },
  {
   "cell_type": "code",
   "execution_count": null,
   "id": "970f0304",
   "metadata": {},
   "outputs": [],
   "source": [
    "from sklearn.metrics import classification_report\n",
    "print(classification_report(y_test,y_pred))"
   ]
  }
 ],
 "metadata": {
  "kernelspec": {
   "display_name": "Python 3",
   "language": "python",
   "name": "python3"
  },
  "language_info": {
   "codemirror_mode": {
    "name": "ipython",
    "version": 3
   },
   "file_extension": ".py",
   "mimetype": "text/x-python",
   "name": "python",
   "nbconvert_exporter": "python",
   "pygments_lexer": "ipython3",
   "version": "3.8.8"
  }
 },
 "nbformat": 4,
 "nbformat_minor": 5
}
